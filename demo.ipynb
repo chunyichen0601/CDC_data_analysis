{
 "cells": [
  {
   "cell_type": "markdown",
   "metadata": {},
   "source": [
    "# 資料處理"
   ]
  },
  {
   "cell_type": "code",
   "execution_count": null,
   "metadata": {},
   "outputs": [],
   "source": [
    "import pandas as pd"
   ]
  },
  {
   "cell_type": "markdown",
   "metadata": {},
   "source": [
    "## 資料讀取\n",
    "### 讀取方式"
   ]
  },
  {
   "cell_type": "code",
   "execution_count": null,
   "metadata": {},
   "outputs": [],
   "source": [
    "txt_data = pd.read_csv(\"data/demo1.txt\", sep='\\t')\n",
    "csv_data = pd.read_csv(\"data/demo2.csv\")"
   ]
  },
  {
   "cell_type": "code",
   "execution_count": null,
   "metadata": {},
   "outputs": [],
   "source": [
    "import pandas as pd\n",
    "txt_data = pd.read_csv(\"data/demo1.txt\", sep='\\t')\n",
    "csv_data = pd.read_csv(\"data/demo2.csv\")"
   ]
  },
  {
   "cell_type": "markdown",
   "metadata": {},
   "source": [
    "## 資料清洗\n",
    "### 變數結構"
   ]
  },
  {
   "cell_type": "code",
   "execution_count": null,
   "metadata": {},
   "outputs": [],
   "source": [
    "# 資料總數\n",
    "txt_data.size\n",
    "\n",
    "# 資料維度資訊\n",
    "txt_data.ndim # 維度數目\n",
    "txt_data.shape # 維度長度 \n",
    "\n",
    "# 變數型態\n",
    "txt_data.dtypes\n",
    "\n",
    "# 資料檢視\n",
    "txt_data.describe\n",
    "txt_data.info"
   ]
  },
  {
   "cell_type": "markdown",
   "metadata": {},
   "source": [
    "### 遺失值處理\n"
   ]
  },
  {
   "cell_type": "code",
   "execution_count": null,
   "metadata": {},
   "outputs": [],
   "source": [
    "txt_data_missing = pd.concat([txt_data, pd.DataFrame({'ID': [99], 'ListID':['List5'], 'Hearing':[pd.NA]})])"
   ]
  },
  {
   "cell_type": "code",
   "execution_count": null,
   "metadata": {},
   "outputs": [],
   "source": [
    "# 尋找遺失值\n",
    "txt_data_missing.isnull()\n",
    "\n",
    "# 遺失值數量統計\n",
    "txt_data_missing.isnull().sum()"
   ]
  },
  {
   "cell_type": "code",
   "execution_count": null,
   "metadata": {},
   "outputs": [],
   "source": [
    "# 遺失值填補為 0\n",
    "txt_data_clean = txt_data_missing.fillna(0)\n",
    "\n",
    "# 遺失值填補平均值\n",
    "hearing_maen = txt_data_missing['Hearing'].mean()\n",
    "txt_data_clean = txt_data_missing.fillna(hearing_maen)\n",
    "\n",
    "# 刪除 NA 所在之觀察值\n",
    "txt_data_clean = txt_data_missing.dropna()"
   ]
  },
  {
   "cell_type": "markdown",
   "metadata": {},
   "source": [
    "### 重複值處理"
   ]
  },
  {
   "cell_type": "code",
   "execution_count": null,
   "metadata": {},
   "outputs": [],
   "source": [
    "txt_data1 = txt_data.drop_duplicates()"
   ]
  },
  {
   "cell_type": "markdown",
   "metadata": {},
   "source": [
    "### 異常值檢測"
   ]
  },
  {
   "cell_type": "code",
   "execution_count": null,
   "metadata": {},
   "outputs": [],
   "source": [
    "#####\n",
    "# 標準差\n",
    "#####\n",
    "txt_data.std()\n",
    "\n",
    "#####\n",
    "# 四分位距(IQR)\n",
    "#####\n",
    "# 自定義IQR程式碼\n",
    "def fetch_IQR(data:pd.DataFrame, col:str):\n",
    "    return data[col].quantile(.75)-data[col].quantile(.25)\n",
    "\n",
    "# txt_data 中 Hearing 的 IQR\n",
    "fetch_IQR(data = txt_data, col='Hearing')"
   ]
  },
  {
   "cell_type": "markdown",
   "metadata": {},
   "source": [
    "## 資料轉換"
   ]
  },
  {
   "cell_type": "markdown",
   "metadata": {},
   "source": [
    "### 資料正規化/標準化"
   ]
  },
  {
   "cell_type": "code",
   "execution_count": null,
   "metadata": {},
   "outputs": [],
   "source": [
    "from sklearn.preprocessing import MinMaxScaler, StandardScaler\n",
    "txt_data_trans = txt_data.copy()\n",
    "\n",
    "# 資料正規化\n",
    "x_scale_norm = txt_data_trans.loc[:,['Hearing']]\n",
    "x_scale_norm = MinMaxScaler().fit_transform(x_scale_norm)\n",
    "\n",
    "# 資料標準化\n",
    "x_scale_std = txt_data_trans.loc[:,['Hearing']]\n",
    "x_scale_std = StandardScaler().fit_transform(x_scale_std)"
   ]
  },
  {
   "cell_type": "markdown",
   "metadata": {},
   "source": [
    "### 虛擬變數"
   ]
  },
  {
   "cell_type": "code",
   "execution_count": null,
   "metadata": {},
   "outputs": [],
   "source": [
    "txt_data_dummy = txt_data.copy()\n",
    "\n",
    "# 將 ListID 轉化成虛擬變數\n",
    "pd.get_dummies(txt_data_dummy, prefix=['ListID'])"
   ]
  },
  {
   "cell_type": "markdown",
   "metadata": {},
   "source": [
    "# 資料分析\n",
    "載入 LARS 資料"
   ]
  },
  {
   "cell_type": "code",
   "execution_count": null,
   "metadata": {},
   "outputs": [],
   "source": [
    "df_lars_data = pd.read_csv(\"data/LARS_flu.csv\")\n",
    "df_lars_data = df_lars_data.dropna()\n",
    "df_lars_data"
   ]
  },
  {
   "cell_type": "markdown",
   "metadata": {},
   "source": [
    "## 描述性分析"
   ]
  },
  {
   "cell_type": "code",
   "execution_count": null,
   "metadata": {},
   "outputs": [],
   "source": [
    "# 建立描述性分析所需的資料\n",
    "def fetch_data_basic_info(data:pd.DataFrame, colname:str) -> dict:\n",
    "    basic_info = {\n",
    "        'Mean' : data[colname].mean(),\n",
    "        'StdDev' : data[colname].std(),\n",
    "        'Min' : data[colname].min(),\n",
    "        'Q1' : data[colname].quantile(0.25),\n",
    "        'Median' : data[colname].median(),\n",
    "        'Q3' : data[colname].quantile(0.75),\n",
    "        'Max' : data[colname].max()\n",
    "    }\n",
    "    return basic_info\n",
    "\n",
    "# 呈現結果\n",
    "print(fetch_data_basic_info(data=df_lars_data, colname='Parainfluenza'))"
   ]
  },
  {
   "cell_type": "code",
   "execution_count": null,
   "metadata": {},
   "outputs": [],
   "source": [
    "print(fetch_data_basic_info(data=df_lars_data, colname='Parainfluenza'))"
   ]
  },
  {
   "cell_type": "markdown",
   "metadata": {},
   "source": [
    "## 樞紐分析表"
   ]
  },
  {
   "cell_type": "code",
   "execution_count": null,
   "metadata": {},
   "outputs": [],
   "source": [
    "df_piv_lars_data = df_lars_data.melt(id_vars='Year-Week of Specimen Received')\n",
    "df_piv_lars_data"
   ]
  },
  {
   "cell_type": "code",
   "execution_count": null,
   "metadata": {},
   "outputs": [],
   "source": [
    "piv_lars = pd.pivot_table(\n",
    "    data = df_piv_lars_data, \n",
    "    index = 'Year-Week of Specimen Received',\n",
    "    columns = 'variable',\n",
    "    aggfunc = 'mean'\n",
    ")\n",
    "piv_lars"
   ]
  },
  {
   "cell_type": "code",
   "execution_count": null,
   "metadata": {},
   "outputs": [],
   "source": []
  }
 ],
 "metadata": {
  "kernelspec": {
   "display_name": "Python 3",
   "language": "python",
   "name": "python3"
  },
  "language_info": {
   "codemirror_mode": {
    "name": "ipython",
    "version": 3
   },
   "file_extension": ".py",
   "mimetype": "text/x-python",
   "name": "python",
   "nbconvert_exporter": "python",
   "pygments_lexer": "ipython3",
   "version": "3.9.10"
  }
 },
 "nbformat": 4,
 "nbformat_minor": 2
}
